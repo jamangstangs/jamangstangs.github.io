{
 "cells": [
  {
   "cell_type": "markdown",
   "metadata": {},
   "source": [
    "Neural Network에 관한 간략한 역사\n",
    "80년대에 그 minsky교슈가 바룦한 논문이 나온 뒤로 두 개를 겹친 뉴런을 가지고 어떤 수학적 모델이 구현 가능하다는 것을 증명해냈다. 그거는 민스키가 발표한 것과 전혀 다른거지만 너무 크고 느리다는 한계점 때문에 유용하지가 않았다. \n",
    "따라서 나중에 좋은 퍼포먼스를 보여주기 위해서는 더 많은 계층의 뉴런이 필요하다는 것을 알아냈다. \n",
    "1. 전체 게임을 해본다. (전체 딥러닝의 퍼포먼스를 먼저 보여준다.) 탑-다운 방식으로 배움을 얻는다.\n",
    "2. 게임이 할만한 가치가 있는지 알아본다.\n",
    "3. 신중하게 연습을 하여 숙련자가 된다.\n",
    "    - 딥 러닝 나중에느 Calculus, Linear Algebra, software Engineering 등을 배워서 숙련된 모습을 보여주자\n",
    "디테일은 나중에 배우는게 핵심이다.\n",
    "\n",
    " "
   ]
  },
  {
   "cell_type": "code",
   "execution_count": null,
   "metadata": {},
   "outputs": [],
   "source": []
  }
 ],
 "metadata": {
  "kernelspec": {
   "display_name": "Python 3",
   "language": "python",
   "name": "python3"
  },
  "language_info": {
   "codemirror_mode": {
    "name": "ipython",
    "version": 3
   },
   "file_extension": ".py",
   "mimetype": "text/x-python",
   "name": "python",
   "nbconvert_exporter": "python",
   "pygments_lexer": "ipython3",
   "version": "3.8.5"
  }
 },
 "nbformat": 4,
 "nbformat_minor": 4
}
